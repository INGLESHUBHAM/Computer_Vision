{
 "cells": [
  {
   "cell_type": "code",
   "execution_count": 1,
   "id": "c0cf86e0",
   "metadata": {},
   "outputs": [
    {
     "name": "stdout",
     "output_type": "stream",
     "text": [
      " * Serving Flask app \"__main__\" (lazy loading)\n",
      " * Environment: production\n",
      "\u001b[31m   WARNING: This is a development server. Do not use it in a production deployment.\u001b[0m\n",
      "\u001b[2m   Use a production WSGI server instead.\u001b[0m\n",
      " * Debug mode: on\n"
     ]
    },
    {
     "name": "stderr",
     "output_type": "stream",
     "text": [
      " * Restarting with watchdog (windowsapi)\n"
     ]
    },
    {
     "ename": "SystemExit",
     "evalue": "1",
     "output_type": "error",
     "traceback": [
      "An exception has occurred, use %tb to see the full traceback.\n",
      "\u001b[1;31mSystemExit\u001b[0m\u001b[1;31m:\u001b[0m 1\n"
     ]
    },
    {
     "name": "stderr",
     "output_type": "stream",
     "text": [
      "C:\\Users\\Ignitiv\\anaconda3\\lib\\site-packages\\IPython\\core\\interactiveshell.py:3377: UserWarning: To exit: use 'exit', 'quit', or Ctrl-D.\n",
      "  warn(\"To exit: use 'exit', 'quit', or Ctrl-D.\", stacklevel=1)\n"
     ]
    }
   ],
   "source": [
    "import os\n",
    "import numpy as np\n",
    "from tensorflow.keras.preprocessing import image\n",
    "from tensorflow.keras.models import load_model\n",
    "from flask import Flask, request, render_template\n",
    "\n",
    "app = Flask(__name__)\n",
    "\n",
    "# Load the saved model\n",
    "loaded_model = load_model('imageclassifier_04.h5')\n",
    "\n",
    "# Image dimensions\n",
    "img_width, img_height = 224, 224  # Set your desired image dimensions\n",
    "\n",
    "# Class labels\n",
    "class_labels = ['Jazz', 'Kathakali', 'Waltz', 'Folklorico']\n",
    "\n",
    "@app.route('/', methods=['GET', 'POST'])\n",
    "def index():\n",
    "    predicted_class_name = None\n",
    "\n",
    "    if request.method == 'POST':\n",
    "        # Get the uploaded image from the form\n",
    "        uploaded_image = request.files['image']\n",
    "        if uploaded_image:\n",
    "            # Save the uploaded image to a temporary location\n",
    "            img_path = 'static/uploaded_image.jpg'\n",
    "            uploaded_image.save(img_path)\n",
    "\n",
    "            # Load and preprocess the uploaded image\n",
    "            img = image.load_img(img_path, target_size=(img_width, img_height))\n",
    "            img = image.img_to_array(img)\n",
    "            img = np.expand_dims(img, axis=0)\n",
    "            img = img / 255.0  # Normalize the pixel values\n",
    "\n",
    "            # Predict the class of the new image using the loaded model\n",
    "            predicted_class = np.argmax(loaded_model.predict(img), axis=-1)\n",
    "            predicted_class_name = class_labels[predicted_class[0]]\n",
    "\n",
    "    return render_template('index.html', predicted_class_name=predicted_class_name)\n",
    "\n",
    "if __name__ == '__main__':\n",
    "    app.run(debug=True)\n"
   ]
  },
  {
   "cell_type": "code",
   "execution_count": null,
   "id": "db22417c",
   "metadata": {},
   "outputs": [],
   "source": []
  },
  {
   "cell_type": "code",
   "execution_count": null,
   "id": "5e694e86",
   "metadata": {},
   "outputs": [],
   "source": []
  },
  {
   "cell_type": "code",
   "execution_count": null,
   "id": "b124fd4b",
   "metadata": {},
   "outputs": [],
   "source": []
  },
  {
   "cell_type": "code",
   "execution_count": null,
   "id": "af5ceaab",
   "metadata": {},
   "outputs": [],
   "source": []
  }
 ],
 "metadata": {
  "kernelspec": {
   "display_name": "Python 3 (ipykernel)",
   "language": "python",
   "name": "python3"
  },
  "language_info": {
   "codemirror_mode": {
    "name": "ipython",
    "version": 3
   },
   "file_extension": ".py",
   "mimetype": "text/x-python",
   "name": "python",
   "nbconvert_exporter": "python",
   "pygments_lexer": "ipython3",
   "version": "3.9.12"
  }
 },
 "nbformat": 4,
 "nbformat_minor": 5
}
