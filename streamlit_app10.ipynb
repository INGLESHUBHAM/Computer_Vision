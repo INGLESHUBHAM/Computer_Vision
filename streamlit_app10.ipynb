{
 "cells": [
  {
   "cell_type": "code",
   "execution_count": null,
   "id": "b8f7838a",
   "metadata": {},
   "outputs": [],
   "source": [
    "# pip install --upgrade protobuf"
   ]
  },
  {
   "cell_type": "code",
   "execution_count": null,
   "id": "3d042191",
   "metadata": {},
   "outputs": [],
   "source": [
    "# pip install streamlit"
   ]
  },
  {
   "cell_type": "code",
   "execution_count": null,
   "id": "c19d10c9",
   "metadata": {},
   "outputs": [],
   "source": [
    "import streamlit as st\n",
    "import numpy as np\n",
    "from tensorflow import keras\n",
    "from tensorflow.keras.preprocessing import image\n",
    "from tensorflow.keras.applications.mobilenet_v2 import preprocess_input, decode_predictions\n",
    "from PIL import Image\n",
    "\n",
    "# Load the trained model\n",
    "model = keras.models.load_model(r\"C:\\Users\\Ignitiv\\Desktop\\Multiclass\\imageclassifier_10.h5\")\n",
    "\n",
    "# Define the class labels\n",
    "class_labels = ['Belly Dance', 'BharatNattyam', 'Flamenco', 'Jazz', 'Kathakali', 'Lion Dance', 'Waltz', 'Folklorico', 'Hiphop', 'samba']\n",
    "\n",
    "# Streamlit app\n",
    "st.title(\"Image Classification Demo\")\n",
    "\n",
    "uploaded_file = st.file_uploader(\"Choose an image...\", type=[\"jpg\", \"jpeg\", \"png\", \"gif\", \"bmp\", \"tiff\"])\n",
    "\n",
    "if uploaded_file is not None:\n",
    "    # Display the uploaded image\n",
    "    image = Image.open(uploaded_file)\n",
    "    st.image(image, caption=\"Uploaded Image\", use_column_width=True)\n",
    "\n",
    "    # Preprocess the image for the model\n",
    "    img = image.resize((224, 224))\n",
    "    img_array = np.array(img)\n",
    "    img_array = np.expand_dims(img_array, axis=0)\n",
    "    img_array = preprocess_input(img_array)\n",
    "\n",
    "    # Make prediction\n",
    "    prediction = model.predict(img_array)\n",
    "    predicted_class = np.argmax(prediction)\n",
    "    predicted_label = class_labels[predicted_class]\n",
    "\n",
    "    # Display the prediction\n",
    "    st.write(f\"Prediction: {predicted_label}\")"
   ]
  },
  {
   "cell_type": "code",
   "execution_count": null,
   "id": "ba067940",
   "metadata": {},
   "outputs": [],
   "source": []
  },
  {
   "cell_type": "code",
   "execution_count": null,
   "id": "1a3dae29",
   "metadata": {},
   "outputs": [],
   "source": []
  },
  {
   "cell_type": "code",
   "execution_count": null,
   "id": "5ecc02a6",
   "metadata": {},
   "outputs": [],
   "source": [
    "# import os\n",
    "# import numpy as np\n",
    "# import streamlit as st\n",
    "# from tensorflow.keras.preprocessing import image\n",
    "# from tensorflow.keras.models import load_model\n",
    "# import matplotlib.pyplot as plt\n",
    "\n",
    "# # Load the saved model\n",
    "# loaded_model = load_model('imageclassifier_10.h5')\n",
    "\n",
    "# # Image dimensions\n",
    "# img_width, img_height = 224, 224  # Set your desired image dimensions\n",
    "\n",
    "# def predict_image_class(image_path):\n",
    "#     # Load the image for prediction\n",
    "#     img = image.load_img(image_path, target_size=(img_width, img_height))\n",
    "#     img = image.img_to_array(img)\n",
    "#     img = np.expand_dims(img, axis=0)\n",
    "#     img = img / 255.0  # Normalize the pixel values\n",
    "\n",
    "#     # Predict the class of the new image using the loaded model\n",
    "#     predicted_class = np.argmax(loaded_model.predict(img), axis=-1)\n",
    "#     class_labels = ['Belly Dance', 'BharatNattyam', 'Flamenco', 'Jazz', 'Kathakali', 'Lion Dance', 'Waltz', 'Folklorico', 'Hiphop', 'samba']\n",
    "#     predicted_class_name = class_labels[predicted_class[0]]\n",
    "\n",
    "#     return predicted_class_name\n",
    "\n",
    "# def main():\n",
    "#     st.title(\"Image Classifier Demo\")\n",
    "\n",
    "#     # Get user input for the image file path\n",
    "#     new_image_path = st.text_input(\"Enter the path of the new image:\")\n",
    "\n",
    "#     # Check if the file exists\n",
    "#     if not os.path.exists(new_image_path):\n",
    "#         st.error(f\"Error: The file {new_image_path} does not exist.\")\n",
    "#         return\n",
    "\n",
    "#     # Check if the file is an image\n",
    "#     allowed_extensions = ['.jpg', '.jpeg', '.png', '.gif', '.bmp', '.tiff']\n",
    "#     if not any(new_image_path.lower().endswith(ext) for ext in allowed_extensions):\n",
    "#         st.error(\"Error: The provided file is not a valid image.\")\n",
    "#         return\n",
    "\n",
    "#     # Predict the class and display the result\n",
    "#     predicted_class_name = predict_image_class(new_image_path)\n",
    "\n",
    "#     st.subheader(f'The predicted class for the new image is: {predicted_class_name}')\n",
    "\n",
    "#     # Visualize the new image\n",
    "#     st.image(new_image_path, caption=f'Predicted Class: {predicted_class_name}', use_column_width=True)\n",
    "\n",
    "# if __name__ == \"__main__\":\n",
    "#     main()\n"
   ]
  },
  {
   "cell_type": "code",
   "execution_count": null,
   "id": "4c853a28",
   "metadata": {},
   "outputs": [],
   "source": []
  },
  {
   "cell_type": "code",
   "execution_count": null,
   "id": "46317edc",
   "metadata": {},
   "outputs": [],
   "source": []
  },
  {
   "cell_type": "code",
   "execution_count": null,
   "id": "6b06c5ea",
   "metadata": {},
   "outputs": [],
   "source": []
  }
 ],
 "metadata": {
  "kernelspec": {
   "display_name": "Python 3 (ipykernel)",
   "language": "python",
   "name": "python3"
  },
  "language_info": {
   "codemirror_mode": {
    "name": "ipython",
    "version": 3
   },
   "file_extension": ".py",
   "mimetype": "text/x-python",
   "name": "python",
   "nbconvert_exporter": "python",
   "pygments_lexer": "ipython3",
   "version": "3.9.12"
  }
 },
 "nbformat": 4,
 "nbformat_minor": 5
}
